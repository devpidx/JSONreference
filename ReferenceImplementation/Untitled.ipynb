{
 "cells": [
  {
   "cell_type": "code",
   "execution_count": 17,
   "metadata": {},
   "outputs": [],
   "source": [
    "import flask\n",
    "from flask import request, jsonify\n",
    "from flask_cors import CORS\n",
    "from flask import render_template\n",
    "import sqlite3\n",
    "import json"
   ]
  },
  {
   "cell_type": "code",
   "execution_count": 18,
   "metadata": {},
   "outputs": [
    {
     "data": {
      "text/plain": [
       "<flask_cors.extension.CORS at 0x7fcf0e829490>"
      ]
     },
     "execution_count": 18,
     "metadata": {},
     "output_type": "execute_result"
    }
   ],
   "source": [
    "app = flask.Flask(__name__)\n",
    "app.config[\"DEBUG\"] = True\n",
    "CORS(app)"
   ]
  },
  {
   "cell_type": "code",
   "execution_count": 19,
   "metadata": {},
   "outputs": [],
   "source": [
    "def dict_factory(cursor, row):\n",
    "    d = {}\n",
    "    for idx, col in enumerate(cursor.description):\n",
    "        d[col[0]] = row[idx]\n",
    "    return d"
   ]
  },
  {
   "cell_type": "code",
   "execution_count": 20,
   "metadata": {},
   "outputs": [],
   "source": [
    "# -----If no URL route is found, return 404 not found error-----\n",
    "@app.errorhandler(404)\n",
    "def page_not_found(e):\n",
    "    return \"<h1>PIDX API Server - 404</h1><p> </p><p>The resource could not be found.</p>\", 404"
   ]
  },
  {
   "cell_type": "code",
   "execution_count": 21,
   "metadata": {},
   "outputs": [],
   "source": [
    "# -----A Route to return all of the Ticket Handling data-----\n",
    "# Sample Call http://api.pidx.org:8080/api/v1/json/receive_tickets\n",
    "@app.route('/api/v1/json/recieve_tickets', methods=['GET'])\n",
    "def api_json_ticket_data():\n",
    "\n",
    "    conn = sqlite3.connect('TicketTest.db')\n",
    "    conn.row_factory = dict_factory\n",
    "    cur = conn.cursor()\n",
    "\n",
    "#   all_json_ticket_data = cur.execute('SELECT * FROM ticketData;').fetchall()\n",
    "    all_json_ticket_data = cur.execute('ticketID, buyerParty, supplierParty, ticketCost FROM ticketData;').fetchall()\n",
    "    conn.close()\n",
    "    return jsonify({'result': [dict(row) for row in all_json_ticket_data]})"
   ]
  },
  {
   "cell_type": "code",
   "execution_count": 22,
   "metadata": {},
   "outputs": [],
   "source": [
    "# -----A route to store ticket records in the ticketData table-----\n",
    "# Sample Call http://api.pidx.org:8080/api/v1/json/submit_ticket/myuniquemessageID\n",
    "@app.route('/api/v1/json/submit_ticket/<uuid>', methods=['GET', 'POST'])\n",
    "def add_message(uuid):\n",
    "    print('----PIDX Received POST Request---------------')\n",
    "\n",
    "    content = request.json\n",
    "\n",
    "    print('----Received POST Request---------------')\n",
    "    print(content['ticketData'])\n",
    "    print('-------------------')\n",
    "    \n",
    "    # open SQLite3 database\n",
    "    conn = sqlite3.connect('TicketTest.db')\n",
    "    cur = conn.cursor()\n",
    "    \n",
    "    # write new ticket record to the DB\n",
    "    cur.execute('INSERT INTO ticketData (ticketID, buyerParty, supplierParty, ticketCost) VALUES (?, ?, ?, ?)',\n",
    "      (content.get('ticketData').get('ticketID'), content.get('ticketData').get('buyerParty'), content.get('ticketData').get('supplierParty'),\n",
    "       content.get('ticketData').get('ticketCost') ) )\n",
    "\n",
    "    # commit and close DB\n",
    "    conn.commit()\n",
    "    conn.close()\n",
    "    \n",
    "    # return unique UUID sent from request\n",
    "    return jsonify({\"uuid\":uuid})"
   ]
  },
  {
   "cell_type": "code",
   "execution_count": 23,
   "metadata": {},
   "outputs": [
    {
     "name": "stdout",
     "output_type": "stream",
     "text": [
      " * Serving Flask app \"__main__\" (lazy loading)\n",
      " * Environment: production\n",
      "   WARNING: This is a development server. Do not use it in a production deployment.\n",
      "   Use a production WSGI server instead.\n",
      " * Debug mode: on\n"
     ]
    },
    {
     "name": "stderr",
     "output_type": "stream",
     "text": [
      " * Running on http://127.0.0.1:8080/ (Press CTRL+C to quit)\n",
      " * Restarting with stat\n"
     ]
    },
    {
     "ename": "SystemExit",
     "evalue": "1",
     "output_type": "error",
     "traceback": [
      "An exception has occurred, use %tb to see the full traceback.\n",
      "\u001b[0;31mSystemExit\u001b[0m\u001b[0;31m:\u001b[0m 1\n"
     ]
    },
    {
     "name": "stderr",
     "output_type": "stream",
     "text": [
      "/opt/anaconda3/lib/python3.7/site-packages/IPython/core/interactiveshell.py:3334: UserWarning: To exit: use 'exit', 'quit', or Ctrl-D.\n",
      "  warn(\"To exit: use 'exit', 'quit', or Ctrl-D.\", stacklevel=1)\n"
     ]
    }
   ],
   "source": [
    "# -----------------------------\n",
    "# Start the server on LOCALHOST port 8080\n",
    "# -----------------------------\n",
    "if __name__ == '__main__':\n",
    "      app.run(host='127.0.0.1', port=8080, debug=True)"
   ]
  },
  {
   "cell_type": "code",
   "execution_count": null,
   "metadata": {},
   "outputs": [],
   "source": []
  }
 ],
 "metadata": {
  "kernelspec": {
   "display_name": "Python 3",
   "language": "python",
   "name": "python3"
  },
  "language_info": {
   "codemirror_mode": {
    "name": "ipython",
    "version": 3
   },
   "file_extension": ".py",
   "mimetype": "text/x-python",
   "name": "python",
   "nbconvert_exporter": "python",
   "pygments_lexer": "ipython3",
   "version": "3.7.4"
  }
 },
 "nbformat": 4,
 "nbformat_minor": 2
}
